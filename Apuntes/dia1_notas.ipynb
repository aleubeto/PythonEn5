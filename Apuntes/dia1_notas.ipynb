{
 "cells": [
  {
   "cell_type": "markdown",
   "metadata": {},
   "source": [
    "# Día 1"
   ]
  },
  {
   "cell_type": "markdown",
   "metadata": {},
   "source": [
    "## 1. Introducción: ¡Vamos a programar!\n",
    "\n",
    "Si sabes decir **cuánto será el resultado de este código**, entonces ¡puedes (y podrás) programar!"
   ]
  },
  {
   "cell_type": "code",
   "execution_count": 1,
   "metadata": {},
   "outputs": [
    {
     "name": "stdout",
     "output_type": "stream",
     "text": [
      "3\n"
     ]
    }
   ],
   "source": [
    "x = 1\n",
    "y = 2\n",
    "z = x + y\n",
    "print(z)"
   ]
  },
  {
   "cell_type": "markdown",
   "metadata": {},
   "source": [
    "## 2. Tipos de datos\n",
    "\n",
    "Al programar abstraemos la realidad para dar solución a problemas usando nuestro ingenio y nuestra computadora. Nuestros mejores aliados en esta tarea serán **los datos** que en sí son una forma de interpretar conceptos de una forma **más simple**.\n",
    "\n",
    "Una **variable** es una caja que contiene como valor un **dato** y está etiquetada con un **nombre** que se puede referenciar."
   ]
  },
  {
   "cell_type": "markdown",
   "metadata": {},
   "source": [
    "### 2.1. Datos `int`\n",
    "\n",
    "Son la representación de los **números enteros** *(sin decimal)* y pueden ser tanto positivos como negativos."
   ]
  },
  {
   "cell_type": "code",
   "execution_count": 2,
   "metadata": {},
   "outputs": [
    {
     "name": "stdout",
     "output_type": "stream",
     "text": [
      "1\n",
      "<class 'int'>\n"
     ]
    }
   ],
   "source": [
    "x = 1\n",
    "print(x)\n",
    "print(type(x))"
   ]
  },
  {
   "cell_type": "markdown",
   "metadata": {},
   "source": [
    "### 2.2. Datos `float`\n",
    "\n",
    "Son la representación de los **números decimales** *(con decimal jeje)*, pueden ser tanto positivos como negativos.\n",
    "\n",
    "Cualquier división de dos números (a pesar de resultar en entero) resultará en un `float`."
   ]
  },
  {
   "cell_type": "code",
   "execution_count": 3,
   "metadata": {},
   "outputs": [
    {
     "name": "stdout",
     "output_type": "stream",
     "text": [
      "0.3333333333333333\n",
      "<class 'float'>\n",
      "0.33\n"
     ]
    }
   ],
   "source": [
    "x = 1/3 #0.33\n",
    "print(x)\n",
    "print(type(x))\n",
    "\n",
    "#Redondea decimales con la función round(var,n)!\n",
    "print(round(x,2))"
   ]
  },
  {
   "cell_type": "markdown",
   "metadata": {},
   "source": [
    "### 2.3. Datos `str`\n",
    "\n",
    "Los *strings* (Cadena de caracteres en español) son datos compuestos por texto plano (palabras).\n",
    "\n",
    "**Cada caracter es un elemento** que compone al string."
   ]
  },
  {
   "cell_type": "code",
   "execution_count": 4,
   "metadata": {},
   "outputs": [
    {
     "name": "stdout",
     "output_type": "stream",
     "text": [
      "Hola mundo\n",
      "<class 'str'>\n"
     ]
    }
   ],
   "source": [
    "x = \"Hola mundo\"\n",
    "print(x)\n",
    "print(type(x))"
   ]
  },
  {
   "cell_type": "markdown",
   "metadata": {},
   "source": [
    "### 2.4. Datos `bool`\n",
    "\n",
    "Los *booleanos* son un tipo de dato que puede tener unicamente dos valores: verdadero y falso (`True` o `False`).\n",
    "\n",
    "Llevan su nombre por *George Boole*, un matemático Británico super importante para la historia del álgebra computacional."
   ]
  },
  {
   "cell_type": "code",
   "execution_count": 6,
   "metadata": {},
   "outputs": [
    {
     "name": "stdout",
     "output_type": "stream",
     "text": [
      "True\n",
      "<class 'bool'>\n"
     ]
    }
   ],
   "source": [
    "# Si todas las personas son mortales\n",
    "# y Socrates es una persona,\n",
    "# Socrates es un mortal.\n",
    "\n",
    "persona = 'mortal'\n",
    "danperez = persona\n",
    "argumento = danperez == 'mortal'\n",
    "print(argumento)\n",
    "print(type(argumento))"
   ]
  },
  {
   "cell_type": "markdown",
   "metadata": {},
   "source": [
    "## 3. Inputs y Outputs\n",
    "\n"
   ]
  },
  {
   "cell_type": "markdown",
   "metadata": {},
   "source": [
    "Las **entradas de datos** (*Inputs*) y **salidas de datos** (*Outputs*) son la forma en la que un usuario interactúa con un programa."
   ]
  },
  {
   "cell_type": "markdown",
   "metadata": {},
   "source": [
    "### 3.1. Entradas de datos\n",
    "\n",
    "El programa se pone en modo de espera, aguardando a que el usuario ingrese un valor vía teclado y presione `enter`.\n",
    "\n",
    "Al hacerlo, el valor ingresado se almacena dentro de una variable y siempre será en modo de `String`, sin embargo, esto se puede modificar posteriormente con funciones."
   ]
  },
  {
   "cell_type": "code",
   "execution_count": 11,
   "metadata": {},
   "outputs": [
    {
     "name": "stdout",
     "output_type": "stream",
     "text": [
      "hola Ale\n"
     ]
    }
   ],
   "source": [
    "# Hacer un input normal\n",
    "nombre = input('Tu nombre es... ')\n",
    "print('hola', nombre)"
   ]
  },
  {
   "cell_type": "code",
   "execution_count": 12,
   "metadata": {},
   "outputs": [
    {
     "name": "stdout",
     "output_type": "stream",
     "text": [
      "10\n",
      "10.0\n",
      "True\n"
     ]
    }
   ],
   "source": [
    "# Cambiar el tipo de dato de un input\n",
    "numero = input('Ingresa un número')\n",
    "print(int(numero))\n",
    "print(float(numero))\n",
    "print(bool(numero))"
   ]
  },
  {
   "cell_type": "markdown",
   "metadata": {},
   "source": [
    "### 3.2 Salida de datos\n",
    "\n",
    "El programa recibe un valor a **imprimir en la consola**, mostrando el resultado de una operación."
   ]
  },
  {
   "cell_type": "code",
   "execution_count": 14,
   "metadata": {},
   "outputs": [
    {
     "name": "stdout",
     "output_type": "stream",
     "text": [
      "Gracias por venir a PythonEn5 \n",
      "Atte. Ale\n"
     ]
    }
   ],
   "source": [
    "# Imprimir de forma convenicional\n",
    "\n",
    "mensaje = \"Gracias por venir a PythonEn5\"\n",
    "print(mensaje, '\\nAtte. Ale')"
   ]
  },
  {
   "cell_type": "code",
   "execution_count": 16,
   "metadata": {},
   "outputs": [
    {
     "name": "stdout",
     "output_type": "stream",
     "text": [
      "Gracias por venir a PythonEn5\n",
      "Atte. Ale\n"
     ]
    }
   ],
   "source": [
    "# Imprimir con estilo\n",
    "\n",
    "print(f'{mensaje}\\nAtte. Ale')"
   ]
  }
 ],
 "metadata": {
  "kernelspec": {
   "display_name": "Python 3.8.10 64-bit",
   "language": "python",
   "name": "python3"
  },
  "language_info": {
   "codemirror_mode": {
    "name": "ipython",
    "version": 3
   },
   "file_extension": ".py",
   "mimetype": "text/x-python",
   "name": "python",
   "nbconvert_exporter": "python",
   "pygments_lexer": "ipython3",
   "version": "3.8.10"
  },
  "orig_nbformat": 4,
  "vscode": {
   "interpreter": {
    "hash": "916dbcbb3f70747c44a77c7bcd40155683ae19c65e1c03b4aa3499c5328201f1"
   }
  }
 },
 "nbformat": 4,
 "nbformat_minor": 2
}
