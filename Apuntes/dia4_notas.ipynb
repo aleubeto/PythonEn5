{
 "cells": [
  {
   "cell_type": "markdown",
   "metadata": {},
   "source": [
    "# Día 4"
   ]
  },
  {
   "cell_type": "markdown",
   "metadata": {},
   "source": [
    "# 5 Ciclos\n",
    "\n",
    "Permiten automatizar la ejecución de instrucciones de forma repetida **(en bucle)**."
   ]
  },
  {
   "cell_type": "markdown",
   "metadata": {},
   "source": [
    "### 5.1 Ciclo While\n",
    "\n",
    "*(Mientras)* Un ciclo que se ejecuta hasta que la **condición** entre parentesis **deja de ser verdaderoa**."
   ]
  },
  {
   "cell_type": "code",
   "execution_count": null,
   "metadata": {},
   "outputs": [],
   "source": [
    "#1 Crear un ciclo while\n",
    "num = int(input('Inserte un número del 0-9: '))\n",
    "while num <= 10:\n",
    "  num = int(input(num: ))\n",
    "print('>>> Fin del ciclo while.')"
   ]
  },
  {
   "cell_type": "markdown",
   "metadata": {},
   "source": [
    "### 5.2 Ciclo While True\n",
    "\n",
    "Es un tipo de ciclo while que se ejecutará por siempre **hasta que llegue a una intrucción** que rompa el ciclo`(break)`."
   ]
  },
  {
   "cell_type": "code",
   "execution_count": null,
   "metadata": {},
   "outputs": [],
   "source": [
    "while True:\n",
    "  contraseña = input('Inserte la contraseña: ')\n",
    "  if contraseña == 'contraseña':\n",
    "    print('>>> ¡Contraseña correcta!')\n",
    "    break"
   ]
  },
  {
   "cell_type": "markdown",
   "metadata": {},
   "source": [
    "### 5.3 Ciclo For\n",
    "\n",
    "*(Por/para)* Un ciclo que se ejecuta una **cantidad finita/definida** de veces.\n",
    "\n",
    "Utiliza una variable iteradora (`i`) que va cambiando su valor recorriendo un rango (`range()`) de valores."
   ]
  },
  {
   "cell_type": "code",
   "execution_count": null,
   "metadata": {},
   "outputs": [],
   "source": [
    "num = int(input('¿Cuántas veces quieres que se repita el for? '))\n",
    "for i in range(num):\n",
    "  print(i)\n",
    "print('>>> Fin del ciclo for.')"
   ]
  },
  {
   "cell_type": "markdown",
   "metadata": {},
   "source": [
    "### 5.4 Rangos\n",
    "\n",
    "Son un tipo de dato que resume una **lista con una progresión** de valores numéricos.\n",
    "\n",
    "La progresión se delimita con los parametros de la función `range()` donde:\n",
    "- el primer dato es donde inicia la progresión.\n",
    "- el segundo dato es donde termina la progresión sin incluir a este.\n",
    "- el tercer dato es el ritmo con el que crece o decrece la progresión."
   ]
  },
  {
   "cell_type": "code",
   "execution_count": null,
   "metadata": {},
   "outputs": [],
   "source": [
    "# Imprimir el tipo de dato de un rango\n",
    "print(type(range(10)))\n",
    "\n",
    "# Rango creciente\n",
    "print(range(1,10,1))\n",
    "\n",
    "# Rango decreciente\n",
    "print(range(10,1,-1))"
   ]
  }
 ],
 "metadata": {
  "kernelspec": {
   "display_name": "Python 3.8.10 64-bit",
   "language": "python",
   "name": "python3"
  },
  "language_info": {
   "codemirror_mode": {
    "name": "ipython",
    "version": 3
   },
   "file_extension": ".py",
   "mimetype": "text/x-python",
   "name": "python",
   "nbconvert_exporter": "python",
   "pygments_lexer": "ipython3",
   "version": "3.8.10"
  },
  "orig_nbformat": 4,
  "vscode": {
   "interpreter": {
    "hash": "916dbcbb3f70747c44a77c7bcd40155683ae19c65e1c03b4aa3499c5328201f1"
   }
  }
 },
 "nbformat": 4,
 "nbformat_minor": 2
}
