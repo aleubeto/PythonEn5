{
 "cells": [
  {
   "cell_type": "markdown",
   "metadata": {},
   "source": [
    "# Día 3"
   ]
  },
  {
   "cell_type": "markdown",
   "metadata": {},
   "source": [
    "# 4 Colecciones"
   ]
  },
  {
   "cell_type": "markdown",
   "metadata": {},
   "source": [
    "Son variables que **almacenan y estructuran** múltiples datos del mismo o de diferente tipo.\n",
    "\n",
    "En python exiten **cuatro tipos:**"
   ]
  },
  {
   "cell_type": "markdown",
   "metadata": {},
   "source": [
    "## 4.1 Listas\n",
    "\n",
    "Estructura de datos más popular del lenguaje. Es mutable y está ordenada por índices."
   ]
  },
  {
   "cell_type": "code",
   "execution_count": 3,
   "metadata": {},
   "outputs": [
    {
     "name": "stdout",
     "output_type": "stream",
     "text": [
      "<class 'list'>\n",
      "[1, 2, 3]\n",
      "[3, 2, 1]\n",
      "3\n",
      "¿Tenemos un 6? = False\n",
      "['Hola mundo', 2, 3]\n",
      "['Hola mundo', 'Insertado', 2, 3]\n",
      "['Hola mundo', 'Insertado', 2, 3, 6]\n",
      "['Insertado', 2, 3, 6]\n",
      "[2, 3, 6]\n",
      "[]\n"
     ]
    }
   ],
   "source": [
    "#1 Imprimir tipo de dato <class 'list'>\n",
    "A = [1,2,3]\n",
    "print(type(A))\n",
    "\n",
    "#2 Imprimir lista\n",
    "print(A)\n",
    "print(A[::-1])\n",
    "\n",
    "#3 Imprimir cuántos elementos tiene una lista\n",
    "print(len(A))\n",
    "\n",
    "#4 Comprobar si un elemento está en la lista\n",
    "print('¿Tenemos un 6? =', 6 in A)\n",
    "\n",
    "#5 Modificar un elemento de la lista por su índice\n",
    "A[0] = 'Hola mundo'\n",
    "print(A)\n",
    "\n",
    "#6 Insertar un elemento en un índice de la lista\n",
    "A.insert(1,'Insertado')\n",
    "print(A)\n",
    "\n",
    "#7 Añadir elemento al final de la lista\n",
    "A.append(6)\n",
    "print(A)\n",
    "\n",
    "#8 Remover un dato específico de la lista\n",
    "A.remove('Hola mundo')\n",
    "print(A)\n",
    "\n",
    "#9 Remover un elemento por su índice\n",
    "A.pop(0)\n",
    "print(A)\n",
    "\n",
    "#10 Vaciar la lista\n",
    "A.clear()\n",
    "print(A)\n",
    "\n",
    "#11 Eliminar la lista\n",
    "del A"
   ]
  },
  {
   "cell_type": "markdown",
   "metadata": {},
   "source": [
    "## 4.2 Tuplas\n",
    "\n",
    "Estructura de datos similar a la lista pero ahorra más memoria. Está ordenada por índices pero no es mutable, por lo que no se le puede añadir o quitar elementos."
   ]
  },
  {
   "cell_type": "code",
   "execution_count": 4,
   "metadata": {},
   "outputs": [
    {
     "name": "stdout",
     "output_type": "stream",
     "text": [
      "<class 'tuple'>\n",
      "(1, 2, 3, 4)\n",
      "(4, 3, 2, 1)\n",
      "4\n",
      "1er constante = 1\n",
      "Ultima constante = 4\n",
      "¿Tenemos un 2? = True\n",
      "[0, 2, 3, 4]\n",
      "(0, 2, 3, 4)\n"
     ]
    }
   ],
   "source": [
    "#0 Imprimir tipo de dato <class 'tuple'>\n",
    "TupleA = (1,2,3,4)\n",
    "print(type(TupleA))\n",
    "\n",
    "#1 Imprimir Tupla\n",
    "print(TupleA)\n",
    "print(TupleA[::-1])\n",
    "\n",
    "#2 Imprimir cuántos elementos tiene la Tupla\n",
    "print(len(TupleA))\n",
    "\n",
    "#3 Imprimir elementos por su índice\n",
    "print(\"1er constante =\", TupleA[0])\n",
    "print(\"Ultima constante =\", TupleA[-1])\n",
    "\n",
    "#4 Comprobar si un elemento está en la Tupla (true/false)\n",
    "print(\"¿Tenemos un 2? =\", 2 in TupleA)\n",
    "\n",
    "#5 Convertir Tupla a Lista para editar (no tan util)\n",
    "TupleA = list(TupleA)\n",
    "TupleA[0] = 0\n",
    "print(TupleA)\n",
    "\n",
    "#6 Convertir a Tupla de nuevo\n",
    "TupleA = tuple(TupleA)\n",
    "print(TupleA)"
   ]
  },
  {
   "cell_type": "markdown",
   "metadata": {},
   "source": [
    "## 4.3 Conjuntos\n",
    "\n",
    "Estructura de datos muy versatil para operaciones matemáticas. **Es mutable**, sin embargo, **no está ordenada** por lo que no es posible llamar a sus elementos por un índice, sumado a esto **no puede tener elementos repetidos**."
   ]
  },
  {
   "cell_type": "code",
   "execution_count": 6,
   "metadata": {},
   "outputs": [
    {
     "name": "stdout",
     "output_type": "stream",
     "text": [
      "<class 'set'>\n",
      "{1, 2, 3}\n",
      "3\n",
      "- 1\n",
      "- 2\n",
      "- 3\n",
      "True\n",
      "{1, 2, 3, 4}\n",
      "{1, 2, 3, 4, 5, 'a'}\n",
      "{1, 2, 3, 4, 'a'}\n",
      "set()\n"
     ]
    }
   ],
   "source": [
    "#0 Imprimir tipo de dato <class 'set'>\n",
    "var_set = {1,2,2,3}\n",
    "print(type(var_set))\n",
    "\n",
    "#1 Imprimir Set\n",
    "print(var_set)\n",
    "\n",
    "#2 Imprimir cuántos elementos tiene el set\n",
    "print(len(var_set))\n",
    "\n",
    "#3 Imprimir uno a uno los elementos del set\n",
    "for x in var_set:\n",
    "    print(\"-\",x)\n",
    "\n",
    "#4 Comprobar si un elemento existe dentro del set (true/false)\n",
    "print(3 in var_set)\n",
    "\n",
    "#5 Añadir un elemento al set\n",
    "var_set.add(4)\n",
    "print(var_set)\n",
    " \n",
    "#6 Añadir varios elemenetos al set\n",
    "var_set.update(['a',5])\n",
    "print(var_set)\n",
    "\n",
    "#7 Remover un elemento del set\n",
    "var_set.remove(5)\n",
    "print(var_set)\n",
    "\n",
    "#8 Limpiar el set (queda un set vacío)\n",
    "var_set.clear()\n",
    "print(var_set)\n",
    "\n",
    "#9 Borrar el set de la memoria\n",
    "del var_set"
   ]
  },
  {
   "cell_type": "markdown",
   "metadata": {},
   "source": [
    "#### 4.3.1 Operando con conjuntos"
   ]
  },
  {
   "cell_type": "code",
   "execution_count": 11,
   "metadata": {},
   "outputs": [
    {
     "name": "stdout",
     "output_type": "stream",
     "text": [
      "\n",
      "¿Son iguales A y B? False\n",
      "Unión de A y B =  {1, 2, 3, 4, 5}\n",
      "Intersección de A y B =  {3}\n",
      "Diferencia de A y B =  {1, 2}\n",
      "Diferencia de B y A =  {4, 5}\n",
      "Diferencia Simétrica de A y B =  {1, 2, 4, 5}\n",
      "Conjunto C = {1, 3} ¿C es subconjunto de A? True\n",
      "Conjunto A = {1, 2, 3} ¿A es super conjunto de C? True\n",
      "¿A y B son disconexos? False\n",
      "Conjunto inmutable D = frozenset({8, 9, 7})\n"
     ]
    }
   ],
   "source": [
    "#1 Comparar conjuntos (true/false)\n",
    "A = {1,2,3}\n",
    "B = {3,4,5}\n",
    "print(\"\\n¿Son iguales A y B?\", A == B)\n",
    "\n",
    "#2 Unión (Elementos de ambos sin repetir)\n",
    "C = A|B\n",
    "print(\"Unión de A y B = \", C)\n",
    "\n",
    "#3 Intersección (Elementos que tienen en común)\n",
    "C = A&B\n",
    "print(\"Intersección de A y B = \", C)\n",
    "\n",
    "#4 Diferencia (Elementos de A que no tiene B) y viceversa\n",
    "C = A-B\n",
    "print(\"Diferencia de A y B = \", C,)\n",
    "C = B-A\n",
    "print(\"Diferencia de B y A = \", C)\n",
    "\n",
    "#5 Diferencia simétrica (Elementos que están en A y en B pero no en ambos)\n",
    "C = A^B\n",
    "print(\"Diferencia Simétrica de A y B = \", C)\n",
    "\n",
    "#6 Determinar subconjuntos (si un conjunto está dentro de otro) (true/false)\n",
    "C = {1,3}\n",
    "print(\"Conjunto C =\", C,\"¿C es subconjunto de A?\", C.issubset(A))\n",
    "\n",
    "#7 Determinar super conjuntos (si un conjunto tiene dentro a otro) (true/false)\n",
    "print(\"Conjunto A =\", A,\"¿A es super conjunto de C?\", A.issuperset(C))\n",
    "\n",
    "#8 Determinar conjuntos disconexos (no comparten ningun elemento) (true/false)\n",
    "print(\"¿A y B son disconexos?\", A.isdisjoint(B))\n",
    "\n",
    "#9 Crear un conjunto inmutable\n",
    "D = frozenset({7,8,9})\n",
    "print(\"Conjunto inmutable D =\", D)"
   ]
  },
  {
   "cell_type": "markdown",
   "metadata": {},
   "source": [
    "## 4.4 Diccionarios\n",
    "\n",
    "Estructura de datos **mutable pero ordenada por llaves**. Los elementos de un diccionario se componen de dos partes: **una llave** y **un valor**.\n",
    "\n",
    "Es decir que se le pueden añadir o quitar elementos pero esto se debe hacer especificando una llave *(de cualquier tipo de dato)* para acceder al valor *(también de cualquier tipo de dato)*."
   ]
  },
  {
   "cell_type": "code",
   "execution_count": 13,
   "metadata": {},
   "outputs": [
    {
     "name": "stdout",
     "output_type": "stream",
     "text": [
      "<class 'dict'>\n",
      "{'rojo': 'red', 'azul': 'blue'}\n",
      "2\n",
      "red and blue\n",
      "dict_keys(['rojo', 'azul'])\n",
      "dict_values(['red', 'blue'])\n",
      "{'rojo': 'red', 'azul': 'blue', 'amarillo': 'yellow'}\n",
      "{'rojo': 'red', 'azul': 'blue', 'amarillo': 'hielow'}\n",
      "{'rojo': 'red', 'azul': 'blue'}\n",
      "dict_items([('rojo', 'red'), ('azul', 'blue')])\n",
      "False\n",
      "{'rojo': 'red', 'azul': 'blue', 'amarillo': 'yellow', 'verde': 'green'}\n",
      "{'rojo': 'red', 'azul': 'bluu', 'amarillo': 'hiellow', 'verde': 'green'}\n",
      "{'rojo': 'red', 'azul': 'bluu', 'amarillo': 'hiellow'}\n",
      "{'rojo': 'red', 'azul': 'bluu'}\n",
      "{}\n"
     ]
    }
   ],
   "source": [
    "#0 Imprimir tipo de dato <class 'dic'>\n",
    "var_dict = {\"rojo\":\"red\", \"azul\":\"blue\"}\n",
    "print(type(var_dict))\n",
    "\n",
    "#1 Imprimir diccionario\n",
    "print(var_dict)\n",
    "\n",
    "#2 Imprimir longitud del diccionario\n",
    "print(len(var_dict))\n",
    "\n",
    "#3 Imprimir datos por su clave\n",
    "print(var_dict[\"rojo\"], \"and\", var_dict[\"azul\"])\n",
    "\n",
    "#4 Imprimir todas las claves (sin sus valores)\n",
    "print(var_dict.keys())\n",
    "\n",
    "#5 Imprimir todas las valores (sin sus claves)\n",
    "print(var_dict.values())\n",
    "\n",
    "#6 Agregar elementos al diccionario inventando una clave\n",
    "var_dict[\"amarillo\"] = \"yellow\"\n",
    "print(var_dict)\n",
    "\n",
    "#7 Modificar un dato por su clave\n",
    "var_dict[\"amarillo\"] = \"hielow\"\n",
    "print(var_dict)\n",
    "\n",
    "#8 Borrar elementos de un diccionario por su clave\n",
    "del(var_dict[\"amarillo\"])\n",
    "print(var_dict)\n",
    "\n",
    "#9 Método items: meter dentro de tuplas \n",
    "print(var_dict.items())\n",
    "\n",
    "#10 Comprobar si elemento existe en el diccionario (true/false)\n",
    "print(\"amarillo\" in var_dict)\n",
    "\n",
    "#11 Añadir y/o Actualizar uno o varios elementos por su clave\n",
    "var_dict.update({\"amarillo\":\"yellow\",\"verde\":\"green\"}) #añadiendo\n",
    "print(var_dict)\n",
    "var_dict.update({\"azul\":\"bluu\",\"amarillo\":\"hiellow\"}) #actualizando\n",
    "print(var_dict)\n",
    "\n",
    "#12 Eliminar un elemento por su clave\n",
    "var_dict.pop(\"verde\")\n",
    "print(var_dict)\n",
    "\n",
    "#13 Seleccionar/Eliminar el ultimo elemento del diccionario\n",
    "var_dict.popitem()\n",
    "print(var_dict)\n",
    "\n",
    "#14 Vaciar diccionario\n",
    "var_dict.clear()\n",
    "print(var_dict)"
   ]
  }
 ],
 "metadata": {
  "kernelspec": {
   "display_name": "Python 3.8.10 64-bit",
   "language": "python",
   "name": "python3"
  },
  "language_info": {
   "codemirror_mode": {
    "name": "ipython",
    "version": 3
   },
   "file_extension": ".py",
   "mimetype": "text/x-python",
   "name": "python",
   "nbconvert_exporter": "python",
   "pygments_lexer": "ipython3",
   "version": "3.8.10"
  },
  "orig_nbformat": 4,
  "vscode": {
   "interpreter": {
    "hash": "916dbcbb3f70747c44a77c7bcd40155683ae19c65e1c03b4aa3499c5328201f1"
   }
  }
 },
 "nbformat": 4,
 "nbformat_minor": 2
}
