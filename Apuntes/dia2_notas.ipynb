{
 "cells": [
  {
   "cell_type": "markdown",
   "metadata": {},
   "source": [
    "# Día 2"
   ]
  },
  {
   "cell_type": "markdown",
   "metadata": {},
   "source": [
    "# 2 Operadores"
   ]
  },
  {
   "cell_type": "markdown",
   "metadata": {},
   "source": [
    "Son el conjunto de caracteres especiales que **en medio de dos datos** realizan operaciones específicas que retornan un resultado."
   ]
  },
  {
   "cell_type": "markdown",
   "metadata": {},
   "source": [
    "## 2.1 Operadores aritméticos\n",
    "\n",
    "Son la forma en la que podemos operar con datos de tipo **`int`, `float`** y algunos casos especiales."
   ]
  },
  {
   "cell_type": "code",
   "execution_count": 5,
   "metadata": {},
   "outputs": [
    {
     "name": "stdout",
     "output_type": "stream",
     "text": [
      "3.5\n",
      "1\n",
      "holamundo\n",
      "6\n",
      "hellohellohello\n",
      "2.5\n",
      "2\n",
      "1\n",
      "4\n"
     ]
    }
   ],
   "source": [
    "#1 Adisión numerica\n",
    "print(2 + 1.5)\n",
    "\n",
    "#2 Substracción\n",
    "print(2 - 1)\n",
    "\n",
    "#3 Concatenación de str\n",
    "print('hola' + 'mundo')\n",
    "\n",
    "#4 Multiplicación numerica\n",
    "print(2 * 3)\n",
    "\n",
    "#5 Mutiplicación de un string por un entero \n",
    "print('hello' * 3)\n",
    "\n",
    "#6 División de numeros\n",
    "print(5 / 2)\n",
    "\n",
    "#7 División exacta de dos numeros\n",
    "print(5 // 2)\n",
    "\n",
    "#8 Residuo o modulación de una división\n",
    "print(5 % 2)\n",
    "\n",
    "#9 Exponente\n",
    "print(2 ** 2)"
   ]
  },
  {
   "cell_type": "markdown",
   "metadata": {},
   "source": [
    "## 2.2 Operadores relacionales\n",
    "\n",
    "Son la forma en la que podemos **comparar el valor** de un dato con el de otro."
   ]
  },
  {
   "cell_type": "code",
   "execution_count": 6,
   "metadata": {},
   "outputs": [
    {
     "name": "stdout",
     "output_type": "stream",
     "text": [
      "¿2 es mayor que 1? True\n",
      "¿2 es menor que 1? False\n",
      "1 es igual a 1 True\n",
      "2 es diferente a 1 True\n",
      "2 es mayor o igual a 1 True\n",
      "2 es menor o igual a 1 False\n"
     ]
    }
   ],
   "source": [
    "#1 Mayor que\n",
    "print('¿2 es mayor que 1?',2 > 1)\n",
    "\n",
    "#2 Menor que\n",
    "print('¿2 es menor que 1?',2 < 1)\n",
    "\n",
    "#3 Igual que\n",
    "print('1 es igual a 1', 1 == 1)\n",
    "\n",
    "#4 Diferente que\n",
    "print('2 es diferente a 1', 2 != 1)\n",
    "\n",
    "#5 Mayor o igual que\n",
    "print('2 es mayor o igual a 1', 2 >= 1)\n",
    "\n",
    "#6 Menor o igual que\n",
    "print('2 es menor o igual a 1', 2 <= 1)"
   ]
  },
  {
   "cell_type": "markdown",
   "metadata": {},
   "source": [
    "## 2.3 Operadores lógicos\n",
    "\n",
    "Son la forma en la que podemos operar con los datos de tipo `bool`"
   ]
  },
  {
   "cell_type": "code",
   "execution_count": 7,
   "metadata": {},
   "outputs": [
    {
     "name": "stdout",
     "output_type": "stream",
     "text": [
      "True\n",
      "False\n",
      "False\n",
      "True\n",
      "True\n",
      "False\n",
      "False\n",
      "True\n"
     ]
    }
   ],
   "source": [
    "#1 Operador and\n",
    "print(True and True)\n",
    "print(True and False)\n",
    "print(False and False)\n",
    "\n",
    "#2 Operador or\n",
    "print(True or True)\n",
    "print(True or False)\n",
    "print(False or False)\n",
    "\n",
    "#3 Operador not\n",
    "print(not True)\n",
    "print(not False)"
   ]
  },
  {
   "cell_type": "markdown",
   "metadata": {},
   "source": [
    "## 2.4 Operadores de asignación\n",
    "\n",
    "Son la forma en la que **asignamos o manipulamos el valor** de una variable."
   ]
  },
  {
   "cell_type": "code",
   "execution_count": 9,
   "metadata": {},
   "outputs": [
    {
     "name": "stdout",
     "output_type": "stream",
     "text": [
      "51\n",
      "50\n",
      "500\n",
      "50.0\n"
     ]
    }
   ],
   "source": [
    "#0 Asignar un valor a una variable\n",
    "asistencias = 50\n",
    "\n",
    "#1 Añadir un valor a una variable\n",
    "asistencias += 1\n",
    "print(asistencias)\n",
    "\n",
    "#2 Restar un valor a una variable\n",
    "asistencias -= 1\n",
    "print(asistencias)\n",
    "\n",
    "#3 Multiplicar un valor a una variable\n",
    "asistencias *= 10\n",
    "print(asistencias)\n",
    "\n",
    "#4 Dividir un valor a una variable\n",
    "asistencias /= 10\n",
    "print(asistencias)"
   ]
  },
  {
   "cell_type": "markdown",
   "metadata": {},
   "source": [
    "# 3 Condicionales\n",
    "\n",
    "Es el arte de hacer a tu programa **capaz de tomár decisiones** con base a si algo es verdadero o falso (`True` | `False`)."
   ]
  },
  {
   "cell_type": "code",
   "execution_count": 14,
   "metadata": {},
   "outputs": [],
   "source": [
    "a = 3\n",
    "b = 2"
   ]
  },
  {
   "cell_type": "markdown",
   "metadata": {},
   "source": [
    "## 3.1 Condicional if\n",
    "\n",
    "Es código que ocurre cuando la condición entre parentesis es igual a `True`."
   ]
  },
  {
   "cell_type": "code",
   "execution_count": 15,
   "metadata": {},
   "outputs": [
    {
     "name": "stdout",
     "output_type": "stream",
     "text": [
      "1.- A es mayor que B\n"
     ]
    }
   ],
   "source": [
    "#1 Crear una condicional if\n",
    "if a > b:\n",
    "  print('1.- A es mayor que B')"
   ]
  },
  {
   "cell_type": "markdown",
   "metadata": {},
   "source": [
    "## 3.2 Condicional elif\n",
    "\n",
    "Es código que ocurre cuando **un `if` anterior no se cumplió** pero al condición entre parentesis es igual a `True`."
   ]
  },
  {
   "cell_type": "code",
   "execution_count": 16,
   "metadata": {},
   "outputs": [
    {
     "name": "stdout",
     "output_type": "stream",
     "text": [
      "1.- A es mayor que B\n"
     ]
    }
   ],
   "source": [
    "if a > b:\n",
    "  print('1.- A es mayor que B')\n",
    "\n",
    "#2 Crear una condicional elif\n",
    "elif a < b:\n",
    "  print('2.- B es mayor que A')"
   ]
  },
  {
   "cell_type": "markdown",
   "metadata": {},
   "source": [
    "## 3.3 Condicional if\n",
    "\n",
    "Es código que ocurre cuando ni el `if` ni el `elif` se cumple. Va de último porque es lo que pasa cuando ninguna condición anterior se cumplió."
   ]
  },
  {
   "cell_type": "code",
   "execution_count": 19,
   "metadata": {},
   "outputs": [
    {
     "name": "stdout",
     "output_type": "stream",
     "text": [
      "1.- A es mayor que B\n"
     ]
    }
   ],
   "source": [
    "if a > b:\n",
    "  print('1.- A es mayor que B')\n",
    "\n",
    "#2 Crear una condicional elif\n",
    "elif a < b:\n",
    "  print('2.- B es mayor que A')\n",
    "\n",
    "#3 Crear una condicional else\n",
    "else:\n",
    "  print('3.- A es igual a B')"
   ]
  }
 ],
 "metadata": {
  "kernelspec": {
   "display_name": "Python 3.8.10 64-bit",
   "language": "python",
   "name": "python3"
  },
  "language_info": {
   "codemirror_mode": {
    "name": "ipython",
    "version": 3
   },
   "file_extension": ".py",
   "mimetype": "text/x-python",
   "name": "python",
   "nbconvert_exporter": "python",
   "pygments_lexer": "ipython3",
   "version": "3.8.10"
  },
  "orig_nbformat": 4,
  "vscode": {
   "interpreter": {
    "hash": "916dbcbb3f70747c44a77c7bcd40155683ae19c65e1c03b4aa3499c5328201f1"
   }
  }
 },
 "nbformat": 4,
 "nbformat_minor": 2
}
