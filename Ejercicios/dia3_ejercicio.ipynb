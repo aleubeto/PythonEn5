{
 "cells": [
  {
   "cell_type": "markdown",
   "metadata": {},
   "source": [
    "### Ejercicio 3.1\n",
    "\n",
    "Dada la siguiente **lista de listas**: `[['Venezuela','Caracas'],['Ecuador','?'],['México','Puebla']]`\n",
    "\n",
    "haz un programa que **imprima** la capital de **Venezuela**, asigne la capital de **Ecuador** (), corrija la capital de **México** y añada al final a **Colombia** y su respectiva capital, por último **debe imprimir la lista actualizada**.\n",
    "\n",
    "~~~\n",
    "Ejemplo de ejecución:\n",
    "\n",
    "Caracas\n",
    "[['Venezuela','Caracas'],['Ecuador'],['México','CDMX'],['Colombia','Bogotá']]\n",
    "\n",
    "~~~"
   ]
  },
  {
   "cell_type": "code",
   "execution_count": 5,
   "metadata": {},
   "outputs": [
    {
     "name": "stdout",
     "output_type": "stream",
     "text": [
      "Caracas\n",
      "[['Venezuela', 'Caracas'], ['Ecuador', 'Quito'], ['México', 'CDMX'], ['Colombia', 'Bogotá']]\n"
     ]
    }
   ],
   "source": [
    "paises = [['Venezuela','Caracas'],['Ecuador'],['México','Puebla']]\n",
    "print(paises[0][1])\n",
    "paises[1].append('Quito')\n",
    "paises[2][1] = 'CDMX'\n",
    "paises.append(['Colombia','Bogotá'])\n",
    "print(paises)"
   ]
  }
 ],
 "metadata": {
  "kernelspec": {
   "display_name": "Python 3.8.10 64-bit",
   "language": "python",
   "name": "python3"
  },
  "language_info": {
   "codemirror_mode": {
    "name": "ipython",
    "version": 3
   },
   "file_extension": ".py",
   "mimetype": "text/x-python",
   "name": "python",
   "nbconvert_exporter": "python",
   "pygments_lexer": "ipython3",
   "version": "3.8.10"
  },
  "orig_nbformat": 4,
  "vscode": {
   "interpreter": {
    "hash": "916dbcbb3f70747c44a77c7bcd40155683ae19c65e1c03b4aa3499c5328201f1"
   }
  }
 },
 "nbformat": 4,
 "nbformat_minor": 2
}
