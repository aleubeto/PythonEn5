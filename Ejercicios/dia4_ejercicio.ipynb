{
 "cells": [
  {
   "cell_type": "markdown",
   "metadata": {},
   "source": [
    "### Ejercicio 4.1\n",
    "\n",
    "Haz un programa que se ejecute preguntando al usuario si quiere imprimir la tabla de multiplicar de un número o si salir:\n",
    "- Si selecciona la tabla de multiplicar pedirá al usuario un número entero y posteriormente imprimirá su tabla hasta el 10 para despues volver a empezar\n",
    "- En caso de que escoja salir se termina la ejecución.\n",
    "\n",
    "~~~\n",
    "Ejemplo de ejecución:\n",
    "\n",
    "Escoje una opción:\n",
    "1 - Aprender tablas\n",
    "0 - Salir\n",
    "1\n",
    "n: 2\n",
    "2 * 1 = 2\n",
    "2 * 2 = 4\n",
    "2 * 3 = 6\n",
    "2 * 4 = 8\n",
    "2 * 5 = 10\n",
    "2 * 6 = 12\n",
    "2 * 7 = 14\n",
    "2 * 8 = 16\n",
    "2 * 9 = 18\n",
    "2 * 10 = 20\n",
    "\n",
    "Escoje una opción:\n",
    "1 - Aprender tablas\n",
    "0 - Salir\n",
    "0\n",
    "\n",
    "~~~"
   ]
  },
  {
   "cell_type": "code",
   "execution_count": null,
   "metadata": {},
   "outputs": [],
   "source": [
    "while True:\n",
    "    print('\\nEscoge una opción\\n1 - Aprender tablas\\n0 - Salir')\n",
    "    decision = int(input())\n",
    "    if(decision == 0):\n",
    "        break\n",
    "    else:\n",
    "        n = int(input('n: '))\n",
    "        for i in range(1,11):\n",
    "            print(f'{n} x {i} = {n*(i)}')"
   ]
  }
 ],
 "metadata": {
  "kernelspec": {
   "display_name": "Python 3.8.10 64-bit",
   "language": "python",
   "name": "python3"
  },
  "language_info": {
   "codemirror_mode": {
    "name": "ipython",
    "version": 3
   },
   "file_extension": ".py",
   "mimetype": "text/x-python",
   "name": "python",
   "nbconvert_exporter": "python",
   "pygments_lexer": "ipython3",
   "version": "3.8.10"
  },
  "orig_nbformat": 4,
  "vscode": {
   "interpreter": {
    "hash": "916dbcbb3f70747c44a77c7bcd40155683ae19c65e1c03b4aa3499c5328201f1"
   }
  }
 },
 "nbformat": 4,
 "nbformat_minor": 2
}
