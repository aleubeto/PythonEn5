{
 "cells": [
  {
   "cell_type": "markdown",
   "metadata": {},
   "source": [
    "### Ejercicio 2.1\n",
    "\n",
    "Haz un programa que te pida que ingreses dos números y los compare usando tres casos: *A es mayor que B*, *B es mayor que A*, *A y B son iguales*\n",
    "\n",
    "~~~\n",
    "Ejemplo de ejecución:\n",
    "\n",
    "> A: 10\n",
    "> B: 5\n",
    "A es mayor que B\n",
    "~~~"
   ]
  },
  {
   "cell_type": "code",
   "execution_count": 1,
   "metadata": {},
   "outputs": [
    {
     "name": "stdout",
     "output_type": "stream",
     "text": [
      "1.- A es mayor que B\n"
     ]
    }
   ],
   "source": [
    "a = float(input('A: '))\n",
    "b = float(input('B: '))\n",
    "if a > b:\n",
    "  print('1.- A es mayor que B')\n",
    "\n",
    "#2 Crear una condicional elif\n",
    "elif a < b:\n",
    "  print('2.- B es mayor que A')\n",
    "\n",
    "#3 Crear una condicional else\n",
    "else:\n",
    "  print('3.- A es igual a B')"
   ]
  }
 ],
 "metadata": {
  "kernelspec": {
   "display_name": "Python 3.8.10 64-bit",
   "language": "python",
   "name": "python3"
  },
  "language_info": {
   "codemirror_mode": {
    "name": "ipython",
    "version": 3
   },
   "file_extension": ".py",
   "mimetype": "text/x-python",
   "name": "python",
   "nbconvert_exporter": "python",
   "pygments_lexer": "ipython3",
   "version": "3.8.10"
  },
  "orig_nbformat": 4,
  "vscode": {
   "interpreter": {
    "hash": "916dbcbb3f70747c44a77c7bcd40155683ae19c65e1c03b4aa3499c5328201f1"
   }
  }
 },
 "nbformat": 4,
 "nbformat_minor": 2
}
