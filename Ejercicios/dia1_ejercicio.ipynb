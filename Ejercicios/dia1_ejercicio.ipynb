{
 "cells": [
  {
   "cell_type": "markdown",
   "metadata": {},
   "source": [
    "### Ejercicio 1.1\n",
    "\n",
    "Haz un programa que te pregunte cuál es tu sándwich favorito y que lo imprima de la siguiente manera:\n",
    "\n",
    "~~~\n",
    "Ejemplo de ejecución:\n",
    "\n",
    "> Tu sandwich favorito es de... Mantequilla de maní\n",
    "-PAN-\n",
    "mantequilla de maní\n",
    "-PAN-\n",
    "~~~"
   ]
  },
  {
   "cell_type": "code",
   "execution_count": 1,
   "metadata": {},
   "outputs": [
    {
     "name": "stdout",
     "output_type": "stream",
     "text": [
      "-PAN-\n",
      "mantequilla de maní\n",
      "-PAN-\n"
     ]
    }
   ],
   "source": [
    "ingrediente = input('> Tu sandwich favorito es de... ')\n",
    "print('-PAN-')\n",
    "print(ingrediente)\n",
    "print('-PAN-')"
   ]
  },
  {
   "cell_type": "markdown",
   "metadata": {},
   "source": [
    "### Ejercicio 1.2\n",
    "\n",
    "Haz un programa que reciba el año en que naciste y calcule cuántos años tienes actualmente.\n",
    "\n",
    "~~~\n",
    "Ejemplo de ejecución:\n",
    "\n",
    "> Año de nacimiento: 2002\n",
    "Tienes 20 años."
   ]
  },
  {
   "cell_type": "code",
   "execution_count": 2,
   "metadata": {},
   "outputs": [
    {
     "name": "stdout",
     "output_type": "stream",
     "text": [
      "Tienes 20 años.\n"
     ]
    }
   ],
   "source": [
    "year = int(input('> Año de nacimiento: '))\n",
    "print(f'Tienes {2022 - year} años.')"
   ]
  },
  {
   "cell_type": "markdown",
   "metadata": {},
   "source": [
    "### Ejercicio 1.3\n",
    "\n",
    "Haz un programa que pida el **Diametro de una circunferencia** y con eso calcule su área.\n",
    "\n",
    "~~~\n",
    "Ejemplo de ejecución:\n",
    "\n",
    "> Diametro: \n",
    "Área de metros cuadrados.\n",
    "~~~"
   ]
  },
  {
   "cell_type": "code",
   "execution_count": 4,
   "metadata": {},
   "outputs": [
    {
     "name": "stdout",
     "output_type": "stream",
     "text": [
      "Área de 78.53981633974483 metros cuadrados.\n"
     ]
    }
   ],
   "source": [
    "# Importamos librería math\n",
    "import math\n",
    "\n",
    "diametro = float(input('Diametro: '))\n",
    "area = math.pi * ((diametro/2)**2)\n",
    "print(f'Área de {area} metros cuadrados.')"
   ]
  }
 ],
 "metadata": {
  "kernelspec": {
   "display_name": "Python 3.8.10 64-bit",
   "language": "python",
   "name": "python3"
  },
  "language_info": {
   "codemirror_mode": {
    "name": "ipython",
    "version": 3
   },
   "file_extension": ".py",
   "mimetype": "text/x-python",
   "name": "python",
   "nbconvert_exporter": "python",
   "pygments_lexer": "ipython3",
   "version": "3.8.10"
  },
  "orig_nbformat": 4,
  "vscode": {
   "interpreter": {
    "hash": "916dbcbb3f70747c44a77c7bcd40155683ae19c65e1c03b4aa3499c5328201f1"
   }
  }
 },
 "nbformat": 4,
 "nbformat_minor": 2
}
